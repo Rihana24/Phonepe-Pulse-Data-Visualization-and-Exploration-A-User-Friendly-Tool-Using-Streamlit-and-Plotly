{
 "cells": [
  {
   "cell_type": "code",
   "execution_count": 187,
   "metadata": {},
   "outputs": [],
   "source": [
    "import pandas as pd \n",
    "import psycopg2\n",
    "import plotly.express as px\n",
    "import requests\n",
    "import json\n",
    "\n"
   ]
  },
  {
   "cell_type": "code",
   "execution_count": 161,
   "metadata": {},
   "outputs": [],
   "source": [
    "#DataFrame Creation from SQL\n",
    "\n",
    "#SQL Connection\n",
    "\n",
    "mydb=psycopg2.connect(host=\"localhost\",\n",
    "                    user=\"postgres\",\n",
    "                    password=\"rihana\",\n",
    "                    database=\"phonepe_data\",\n",
    "                    port=\"5432\")\n",
    "cursor=mydb.cursor()\n",
    "\n",
    "\n",
    "#Aggregated_Insurance_DF\n",
    "\n",
    "cursor.execute(\"SELECT * FROM aggregated_insurance\")\n",
    "mydb.commit()\n",
    "table1=cursor.fetchall()\n",
    "\n",
    "Aggre_insurance= pd.DataFrame(table1,columns=(\"State\", \"Year\", \"Quarter\", \"Transaction_type\", \"Transaction_count\",\n",
    "                                              \"Transaction_amount\"))\n",
    "\n"
   ]
  },
  {
   "cell_type": "code",
   "execution_count": null,
   "metadata": {},
   "outputs": [],
   "source": [
    "Aggre_insurance"
   ]
  },
  {
   "cell_type": "code",
   "execution_count": 55,
   "metadata": {},
   "outputs": [],
   "source": [
    "#Aggregated_Transaction_DF\n",
    "\n",
    "cursor.execute(\"SELECT * FROM aggregated_transaction\")\n",
    "mydb.commit()\n",
    "table2=cursor.fetchall()\n",
    "\n",
    "Aggre_transaction= pd.DataFrame(table2,columns=(\"State\", \"Year\", \"Quarter\", \"Transaction_type\", \"Transaction_count\",\n",
    "                                              \"Transaction_amount\"))\n"
   ]
  },
  {
   "cell_type": "code",
   "execution_count": null,
   "metadata": {},
   "outputs": [],
   "source": [
    "Aggre_transaction"
   ]
  },
  {
   "cell_type": "code",
   "execution_count": 56,
   "metadata": {},
   "outputs": [],
   "source": [
    "#Aggregated_User_DF\n",
    "\n",
    "cursor.execute(\"SELECT * FROM aggregated_user\")\n",
    "mydb.commit()\n",
    "table3=cursor.fetchall()\n",
    "\n",
    "Aggre_user= pd.DataFrame(table3,columns=(\"State\", \"Year\", \"Quarter\", \"Brands\", \"Transaction_count\",\n",
    "                                              \"Percentage\"))\n"
   ]
  },
  {
   "cell_type": "code",
   "execution_count": null,
   "metadata": {},
   "outputs": [],
   "source": [
    "Aggre_user"
   ]
  },
  {
   "cell_type": "code",
   "execution_count": 57,
   "metadata": {},
   "outputs": [],
   "source": [
    "#Map_Insurance_DF\n",
    "\n",
    "cursor.execute(\"SELECT * FROM map_insurance\")\n",
    "mydb.commit()\n",
    "table4=cursor.fetchall()\n",
    "\n",
    "Map_insurance= pd.DataFrame(table4,columns=(\"State\", \"Year\", \"Quarter\", \"District\", \"Transaction_count\",\n",
    "                                              \"Transaction_amount\"))"
   ]
  },
  {
   "cell_type": "code",
   "execution_count": null,
   "metadata": {},
   "outputs": [],
   "source": [
    "Map_insurance"
   ]
  },
  {
   "cell_type": "code",
   "execution_count": 58,
   "metadata": {},
   "outputs": [],
   "source": [
    "#Map_Transaction_DF\n",
    "\n",
    "cursor.execute(\"SELECT * FROM map_transaction\")\n",
    "mydb.commit()\n",
    "table5=cursor.fetchall()\n",
    "\n",
    "Map_transaction= pd.DataFrame(table5,columns=(\"State\", \"Year\", \"Quarter\", \"District\", \"Transaction_count\",\n",
    "                                              \"Transaction_amount\"))"
   ]
  },
  {
   "cell_type": "code",
   "execution_count": null,
   "metadata": {},
   "outputs": [],
   "source": [
    "Map_transaction"
   ]
  },
  {
   "cell_type": "code",
   "execution_count": 59,
   "metadata": {},
   "outputs": [],
   "source": [
    "#Map_User_DF\n",
    "\n",
    "cursor.execute(\"SELECT * FROM map_user\")\n",
    "mydb.commit()\n",
    "table6=cursor.fetchall()\n",
    "\n",
    "Map_user= pd.DataFrame(table6,columns=(\"State\", \"Year\", \"Quarter\", \"District\", \"RegisteredUser\",\n",
    "                                              \"AppOpens\"))\n",
    "\n"
   ]
  },
  {
   "cell_type": "code",
   "execution_count": null,
   "metadata": {},
   "outputs": [],
   "source": [
    "Map_user"
   ]
  },
  {
   "cell_type": "code",
   "execution_count": 60,
   "metadata": {},
   "outputs": [],
   "source": [
    "#Top_Insurance_DF\n",
    "\n",
    "cursor.execute(\"SELECT * FROM top_insurance\")\n",
    "mydb.commit()\n",
    "table7=cursor.fetchall()\n",
    "\n",
    "Top_insurance= pd.DataFrame(table7,columns=(\"State\", \"Year\", \"Quarter\", \"Pincode\", \"Transaction_count\",\n",
    "                                              \"Transaction_amount\"))"
   ]
  },
  {
   "cell_type": "code",
   "execution_count": null,
   "metadata": {},
   "outputs": [],
   "source": [
    "Top_insurance"
   ]
  },
  {
   "cell_type": "code",
   "execution_count": 61,
   "metadata": {},
   "outputs": [],
   "source": [
    "#Top_Transaction_DF\n",
    "\n",
    "cursor.execute(\"SELECT * FROM top_transaction\")\n",
    "mydb.commit()\n",
    "table8=cursor.fetchall()\n",
    "\n",
    "Top_transaction= pd.DataFrame(table8,columns=(\"State\", \"Year\", \"Quarter\", \"Pincode\", \"Transaction_count\",\n",
    "                                              \"Transaction_amount\"))"
   ]
  },
  {
   "cell_type": "code",
   "execution_count": null,
   "metadata": {},
   "outputs": [],
   "source": [
    "Top_transaction"
   ]
  },
  {
   "cell_type": "code",
   "execution_count": 62,
   "metadata": {},
   "outputs": [],
   "source": [
    "#Top_User_DF\n",
    "\n",
    "cursor.execute(\"SELECT * FROM top_user\")\n",
    "mydb.commit()\n",
    "table9=cursor.fetchall()\n",
    "\n",
    "Top_user= pd.DataFrame(table9,columns=(\"State\", \"Year\", \"Quarter\", \"Pincode\", \"RegisteredUser\"))\n",
    "\n"
   ]
  },
  {
   "cell_type": "code",
   "execution_count": null,
   "metadata": {},
   "outputs": [],
   "source": [
    "Top_user"
   ]
  },
  {
   "cell_type": "code",
   "execution_count": null,
   "metadata": {},
   "outputs": [],
   "source": []
  },
  {
   "cell_type": "code",
   "execution_count": 63,
   "metadata": {},
   "outputs": [],
   "source": [
    "#Transaction by Year\n",
    "\n",
    "def Transaction_amount_count_Y(df,year):\n",
    "\n",
    "    tacy= df[df[\"Year\"] == year]\n",
    "    tacy.reset_index(drop = True, inplace= True)\n",
    "\n",
    "    tacyg= tacy.groupby(\"State\")[[\"Transaction_count\",\"Transaction_amount\"]].sum()\n",
    "    tacyg.reset_index(inplace= True)\n",
    "\n",
    "    fig_amount= px.bar(tacyg, x=\"State\", y=\"Transaction_amount\", title=f\"{year} TRANSACTION AMOUNT\",\n",
    "                            color_discrete_sequence=px.colors.sequential.Aggrnyl)\n",
    "    fig_amount.show()\n",
    "\n",
    "    fig_count= px.bar(tacyg, x=\"State\", y=\"Transaction_count\", title=f\"{year} TRANSACTION COUNT\",\n",
    "                            color_discrete_sequence=px.colors.sequential.Blackbody)\n",
    "    fig_count.show()\n",
    "\n",
    "    url=\"https://gist.githubusercontent.com/jbrobst/56c13bbbf9d97d187fea01ca62ea5112/raw/e388c4cae20aa53cb5090210a42ebb9b765c0a36/india_states.geojson\"\n",
    "    response=requests.get(url)\n",
    "    data1=json.loads(response.content)\n",
    "    states_name=[]\n",
    "    for feature in data1[\"features\"]:\n",
    "        states_name.append(feature[\"properties\"][\"ST_NM\"])\n",
    "    states_name.sort()\n",
    "\n",
    "    fig_india_1= px.choropleth(tacyg, geojson= data1, locations= \"State\", featureidkey= \"properties.ST_NM\",\n",
    "                                color= \"Transaction_amount\", color_continuous_scale= \"Sunsetdark\",\n",
    "                                range_color= (tacyg[\"Transaction_amount\"].min(),tacyg[\"Transaction_amount\"].max()),\n",
    "                                hover_name= \"State\",title = f\"{year} TRANSACTION AMOUNT\",\n",
    "                                fitbounds= \"locations\",width =600, height= 600)\n",
    "    fig_india_1.update_geos(visible =False)\n",
    "\n",
    "    fig_india_1.show()\n",
    "\n",
    "\n",
    "    fig_india_2= px.choropleth(tacyg, geojson= data1, locations= \"State\", featureidkey= \"properties.ST_NM\",\n",
    "                                color= \"Transaction_count\", color_continuous_scale= \"Sunsetdark\",\n",
    "                                range_color= (tacyg[\"Transaction_count\"].min(),tacyg[\"Transaction_count\"].max()),\n",
    "                                hover_name= \"State\",title = f\"{year} TRANSACTION COUNT\",\n",
    "                                fitbounds= \"locations\",width =600, height= 600)\n",
    "    fig_india_2.update_geos(visible =False)\n",
    "\n",
    "    fig_india_2.show()\n",
    "\n",
    "    return tacy\n"
   ]
  },
  {
   "cell_type": "code",
   "execution_count": null,
   "metadata": {},
   "outputs": [],
   "source": [
    "tac_Y = Transaction_amount_count_Y(Aggre_insurance,2023)"
   ]
  },
  {
   "cell_type": "code",
   "execution_count": 64,
   "metadata": {},
   "outputs": [],
   "source": [
    "#Transaction by Quarter\n",
    "\n",
    "def Transaction_amount_count_Y_Q(df,quarter):\n",
    "\n",
    "    tacy= df[df[\"Quarter\"] == quarter]\n",
    "    tacy.reset_index(drop = True, inplace= True)\n",
    "\n",
    "    tacyg= tacy.groupby(\"State\")[[\"Transaction_count\",\"Transaction_amount\"]].sum()\n",
    "    tacyg.reset_index(inplace= True)\n",
    "\n",
    "    fig_amount= px.bar(tacyg, x=\"State\", y=\"Transaction_amount\", title=f\"{tacy['Year'].min()} YEAR {quarter} QUATER TRANSACTION AMOUNT\",\n",
    "                            color_discrete_sequence=px.colors.sequential.Aggrnyl)\n",
    "    fig_amount.show()\n",
    "\n",
    "    fig_count= px.bar(tacyg, x=\"State\", y=\"Transaction_count\", title=f\"{tacy['Year'].min()} YEAR {quarter} QUATER TRANSACTION COUNT\",\n",
    "                            color_discrete_sequence=px.colors.sequential.Blackbody)\n",
    "    fig_count.show()\n",
    "\n",
    "    url=\"https://gist.githubusercontent.com/jbrobst/56c13bbbf9d97d187fea01ca62ea5112/raw/e388c4cae20aa53cb5090210a42ebb9b765c0a36/india_states.geojson\"\n",
    "    response=requests.get(url)\n",
    "    data1=json.loads(response.content)\n",
    "    states_name=[]\n",
    "    for feature in data1[\"features\"]:\n",
    "        states_name.append(feature[\"properties\"][\"ST_NM\"])\n",
    "    states_name.sort()\n",
    "\n",
    "    fig_india_1= px.choropleth(tacyg, geojson= data1, locations= \"State\", featureidkey= \"properties.ST_NM\",\n",
    "                                color= \"Transaction_amount\", color_continuous_scale= \"Sunsetdark\",\n",
    "                                range_color= (tacyg[\"Transaction_amount\"].min(),tacyg[\"Transaction_amount\"].max()),\n",
    "                                hover_name= \"State\",title = f\"{tacy['Year'].min()} YEAR {quarter} QUATER TRANSACTION AMOUNT\",\n",
    "                                fitbounds= \"locations\",width =600, height= 600)\n",
    "    fig_india_1.update_geos(visible =False)\n",
    "\n",
    "    fig_india_1.show()\n",
    "\n",
    "\n",
    "    fig_india_2= px.choropleth(tacyg, geojson= data1, locations= \"State\", featureidkey= \"properties.ST_NM\",\n",
    "                                color= \"Transaction_count\", color_continuous_scale= \"Sunsetdark\",\n",
    "                                range_color= (tacyg[\"Transaction_count\"].min(),tacyg[\"Transaction_count\"].max()),\n",
    "                                hover_name= \"State\",title = f\"{tacy['Year'].min()} YEAR {quarter} QUATER TRANSACTION COUNT\",\n",
    "                                fitbounds= \"locations\",width =600, height= 600)\n",
    "    fig_india_2.update_geos(visible =False)\n",
    "\n",
    "    fig_india_2.show()\n",
    "\n",
    "    return tacy"
   ]
  },
  {
   "cell_type": "code",
   "execution_count": 65,
   "metadata": {},
   "outputs": [],
   "source": [
    "#Transaction Type by State wise\n",
    "\n",
    "def Aggre_Tran_Type(df, state):\n",
    "\n",
    "    tacy= df[df [\"State\"] == state]\n",
    "    tacy.reset_index(drop = True, inplace= True)\n",
    "\n",
    "    tacyg= tacy.groupby(\"Transaction_type\")[[\"Transaction_count\",\"Transaction_amount\"]].sum()\n",
    "    tacyg.reset_index(inplace= True)\n",
    "\n",
    "    fig_pie_1= px.pie(data_frame=tacyg, names=\"Transaction_type\", values=\"Transaction_amount\", width=600,\n",
    "                    title=f\"{state.upper()} TRANSACTION AMOUNT\", hole=0.5)\n",
    "\n",
    "    fig_pie_1.show()\n",
    "\n",
    "    fig_pie_2= px.pie(data_frame=tacyg, names=\"Transaction_type\", values=\"Transaction_count\", width=600,\n",
    "                    title=f\"{state.upper()} TRANSACTION COUNT\", hole=0.5)\n",
    "\n",
    "    fig_pie_2.show()"
   ]
  },
  {
   "cell_type": "code",
   "execution_count": 66,
   "metadata": {},
   "outputs": [],
   "source": [
    "#Aggregated user analysis by year \n",
    "\n",
    "def Aggre_user_plot_1(df, year):\n",
    "\n",
    "    aguy = df[df[\"Year\"]==year]\n",
    "    aguy.reset_index(drop=True, inplace=True)\n",
    "\n",
    "    aguyg= pd.DataFrame(aguy.groupby(\"Brands\")[\"Transaction_count\"].sum())\n",
    "    aguyg.reset_index(inplace=True)\n",
    "\n",
    "    fig_bar_1 = px.bar(aguyg, x=\"Brands\", y=\"Transaction_count\", title= f\"{year} BRANDS VS TRANSACTION COUNT\", width = 950, \n",
    "                    color_discrete_sequence= px.colors.sequential.algae_r,hover_name= \"Brands\")\n",
    "    fig_bar_1.show()\n",
    "\n",
    "    return aguy"
   ]
  },
  {
   "cell_type": "code",
   "execution_count": 67,
   "metadata": {},
   "outputs": [],
   "source": [
    "#Aggregated User Analysis by quarter \n",
    "\n",
    "def Aggre_user_plot_2(df,quarter):\n",
    "\n",
    "    aguyq = df[df[\"Quarter\"]==quarter]\n",
    "    aguyq.reset_index(drop=True, inplace=True)\n",
    "\n",
    "    aguyqg= pd.DataFrame(aguyq.groupby(\"Brands\")[\"Transaction_count\"].sum())\n",
    "    aguyqg.reset_index(inplace=True)\n",
    "\n",
    "    fig_bar_1 = px.bar(aguyqg, x=\"Brands\", y=\"Transaction_count\", title=f\"{quarter} QUARTER BRANDS VS TRANSACTION COUNT\", width = 950, \n",
    "                    color_discrete_sequence= px.colors.sequential.algae_r,hover_name= \"Brands\")\n",
    "    fig_bar_1.show()\n",
    "    return aguyq\n"
   ]
  },
  {
   "cell_type": "code",
   "execution_count": 68,
   "metadata": {},
   "outputs": [],
   "source": [
    "#Aggregated user analysis by State\n",
    "\n",
    "def Aggre_user_plot_3(df,state):\n",
    "\n",
    "    auyqs= df[df[\"State\"] == state]\n",
    "    auyqs.reset_index(drop= True, inplace=True)\n",
    "\n",
    "    fig_line_1= px.line(auyqs, x=\"Brands\", y=\"Transaction_count\", hover_data=\"Percentage\", markers=True,\n",
    "                        title=\"BRANDS with TRANSACTION and their PERCENTAGE\", width=1000)\n",
    "\n",
    "    fig_line_1.show()\n"
   ]
  },
  {
   "cell_type": "code",
   "execution_count": null,
   "metadata": {},
   "outputs": [],
   "source": [
    "Aggre_user_plot_3(Aggre_user_Y_Q, \"Tamil Nadu\")"
   ]
  },
  {
   "cell_type": "code",
   "execution_count": 69,
   "metadata": {},
   "outputs": [],
   "source": [
    "#Transaction Type by MAP Transaction-- District\n",
    "\n",
    "def Map_insurance_District(df, state):\n",
    "\n",
    "    tacy= df[df [\"State\"] == state]\n",
    "    tacy.reset_index(drop = True, inplace= True)\n",
    "\n",
    "    tacyg= tacy.groupby(\"District\")[[\"Transaction_count\",\"Transaction_amount\"]].sum()\n",
    "    tacyg.reset_index(inplace= True)\n",
    "\n",
    "    fig_bar_1= px.bar(data_frame=tacyg, x=\"Transaction_amount\", y=\"District\", orientation=\"h\",title=f\"{state.upper()} DISTRICTS WITH TRANSACTION AMOUNT\", \n",
    "                      color_discrete_sequence=px.colors.sequential.Brwnyl_r)\n",
    "\n",
    "    fig_bar_1.show()\n",
    "\n",
    "    fig_bar_2= px.bar(data_frame=tacyg, x=\"Transaction_count\", y=\"District\", orientation=\"h\",title=f\"{state.upper()} DISTRICTS WITH TRANSACTION COUNT\", \n",
    "                      color_discrete_sequence=px.colors.sequential.Blugrn_r)\n",
    "\n",
    "    fig_bar_2.show()"
   ]
  },
  {
   "cell_type": "code",
   "execution_count": 70,
   "metadata": {},
   "outputs": [],
   "source": [
    "# MAP User analysis by YEAR\n",
    "\n",
    "def map_user_plot_1(df,year):\n",
    "    muy = df[df[\"Year\"]== year]\n",
    "    muy.reset_index(drop=True, inplace=True)\n",
    "\n",
    "    muyg= muy.groupby(\"State\")[[\"RegisteredUser\",\"AppOpens\"]].sum()\n",
    "    muyg.reset_index(inplace=True)\n",
    "\n",
    "    fig_line_1_Map= px.line(muyg, x=\"State\", y=[\"RegisteredUser\",\"AppOpens\"], markers=True, width=1000, height=800,\n",
    "                        title=f\"{year} REGISTERED USER AND APP OPENS\")\n",
    "\n",
    "    fig_line_1_Map.show()\n",
    "\n",
    "    return muy"
   ]
  },
  {
   "cell_type": "code",
   "execution_count": 71,
   "metadata": {},
   "outputs": [],
   "source": [
    "# MAP User analysis by QUARTER\n",
    "\n",
    "def map_user_plot_2(df,quarter):\n",
    "    muyq = df[df[\"Quarter\"]== quarter]\n",
    "    muyq.reset_index(drop=True, inplace=True)\n",
    "\n",
    "    muyqg= muyq.groupby(\"State\")[[\"RegisteredUser\",\"AppOpens\"]].sum()\n",
    "    muyqg.reset_index(inplace=True)\n",
    "\n",
    "    fig_mapline_2= px.line(muyqg, x=\"State\", y=[\"RegisteredUser\",\"AppOpens\"], markers=True, width=1000, height=800,\n",
    "                        title=f\"{quarter} QUARTER REGISTERED USER AND APP OPENS\", \n",
    "                        color_discrete_sequence= px.colors.sequential.BuPu_r)\n",
    "\n",
    "    fig_mapline_2.show()\n",
    "\n",
    "    return muyq\n"
   ]
  },
  {
   "cell_type": "code",
   "execution_count": 72,
   "metadata": {},
   "outputs": [],
   "source": [
    "# MAP USER ANALYSIS BY REGISTERED USER AND APP OPENS\n",
    "\n",
    "def map_user_plot_3(df,state):\n",
    "    muyqs = df[df[\"State\"]== state]\n",
    "    muyqs.reset_index(drop=True, inplace=True)\n",
    "\n",
    "    fig_mapuser_bar_1= px.bar(muyqs, x=\"RegisteredUser\", y=\"District\", orientation= \"h\", title=\"REGISTERED USER\", \n",
    "                        height= 800, color_discrete_sequence=px.colors.sequential.Rainbow_r)\n",
    "\n",
    "\n",
    "    fig_mapuser_bar_1.show()\n",
    "\n",
    "    fig_mapuser_bar_2= px.bar(muyqs, x=\"AppOpens\", y=\"District\", orientation= \"h\", title=\"APP OPENS\", \n",
    "                        height= 800, color_discrete_sequence=px.colors.sequential.Rainbow)\n",
    "\n",
    "\n",
    "    fig_mapuser_bar_2.show()"
   ]
  },
  {
   "cell_type": "code",
   "execution_count": 110,
   "metadata": {},
   "outputs": [],
   "source": [
    "# Top Insurance analysis by Pincode \n",
    "\n",
    "def Top_insurance_plot_1(df, state):\n",
    "    tiy= df[df[\"State\"]== state]\n",
    "    tiy.reset_index(drop=True, inplace=True)\n",
    "\n",
    "    tiyg= tiy.groupby(\"Pincode\")[[\"Transaction_count\",\"Transaction_amount\"]].sum()\n",
    "    tiyg.reset_index(inplace=True)\n",
    "\n",
    "    fig_bar_6= px.bar(tiy, x=\"Quarter\", y=\"Transaction_amount\", title=\"TRANSACTION AMOUNT\", height= 800, \n",
    "                      hover_data=\"Pincode\", color_discrete_sequence=px.colors.sequential.Rainbow)\n",
    "\n",
    "\n",
    "    fig_bar_6.show()\n",
    "\n",
    "    fig_bar_7= px.bar(tiy, x=\"Quarter\", y=\"Transaction_count\", title=\"TRANSACTION COUNT\", height= 800, \n",
    "                      hover_data=\"Pincode\", color_discrete_sequence=px.colors.sequential.algae )\n",
    "\n",
    "\n",
    "    fig_bar_7.show()"
   ]
  },
  {
   "cell_type": "code",
   "execution_count": 128,
   "metadata": {},
   "outputs": [],
   "source": [
    "# Top user analysis by year \n",
    "\n",
    "def top_user_plot_1(df, year):\n",
    "    tuy= df[df[\"Year\"]== year]\n",
    "    tuy.reset_index(drop=True, inplace=True)\n",
    "\n",
    "    tuyg= pd.DataFrame(tuy.groupby([\"State\", \"Quarter\"])[\"RegisteredUser\"].sum())\n",
    "    tuyg.reset_index(inplace=True)\n",
    "\n",
    "    fig_bar_8 = px.bar(tuyg, x=\"State\", y=\"RegisteredUser\", color= \"Quarter\",height= 800, width= 1000,\n",
    "                    hover_data=\"State\", title=f\"{year} REGISTERED USERS\",\n",
    "                    color_discrete_sequence= px.colors.sequential.BuPu_r)\n",
    "    fig_bar_8.show()\n",
    "\n",
    "    return tuy "
   ]
  },
  {
   "cell_type": "code",
   "execution_count": null,
   "metadata": {},
   "outputs": [],
   "source": [
    "# Top user analysis by pincodes\n",
    "\n",
    "def top_user_plot_2(df, state):\n",
    "\n",
    "    tuys= df[df[\"State\"]== state]\n",
    "    tuys.reset_index(drop=True, inplace=True)\n",
    "\n",
    "    fig_bar_9= px.bar(tuys, x=\"Quarter\", y=\"RegisteredUser\", title=\"REGISTERED USER VS PINCODE VS QUARTER\", height= 800, \n",
    "                        width =1000, hover_data=\"Pincode\", color = \"RegisteredUser\",\n",
    "                        color_continuous_scale = px.colors.sequential.Magenta)\n",
    "\n",
    "    fig_bar_9.show()"
   ]
  },
  {
   "cell_type": "code",
   "execution_count": null,
   "metadata": {},
   "outputs": [],
   "source": []
  },
  {
   "cell_type": "code",
   "execution_count": null,
   "metadata": {},
   "outputs": [],
   "source": []
  },
  {
   "cell_type": "code",
   "execution_count": null,
   "metadata": {},
   "outputs": [],
   "source": []
  },
  {
   "cell_type": "markdown",
   "metadata": {},
   "source": [
    "## Aggregated insurance\n"
   ]
  },
  {
   "cell_type": "code",
   "execution_count": null,
   "metadata": {},
   "outputs": [],
   "source": [
    "tac_Y = Transaction_amount_count_Y(Aggre_insurance,2022)"
   ]
  },
  {
   "cell_type": "code",
   "execution_count": null,
   "metadata": {},
   "outputs": [],
   "source": [
    "Transaction_amount_count_Y_Q(tac_Y, 3)"
   ]
  },
  {
   "cell_type": "markdown",
   "metadata": {},
   "source": [
    "## Aggregated Transaction"
   ]
  },
  {
   "cell_type": "code",
   "execution_count": null,
   "metadata": {},
   "outputs": [],
   "source": [
    "Aggre_tran_tac_Y = Transaction_amount_count_Y(Aggre_transaction,2022)"
   ]
  },
  {
   "cell_type": "code",
   "execution_count": null,
   "metadata": {},
   "outputs": [],
   "source": [
    "Aggre_Tran_Type(Aggre_tran_tac_Y ,\"Tamil Nadu\")"
   ]
  },
  {
   "cell_type": "code",
   "execution_count": null,
   "metadata": {},
   "outputs": [],
   "source": [
    "Aggre_tran_tac_Y_Q = Transaction_amount_count_Y_Q(Aggre_tran_tac_Y ,3)"
   ]
  },
  {
   "cell_type": "code",
   "execution_count": null,
   "metadata": {},
   "outputs": [],
   "source": [
    "Aggre_Tran_Type(Aggre_tran_tac_Y_Q ,\"Tamil Nadu\")"
   ]
  },
  {
   "cell_type": "markdown",
   "metadata": {},
   "source": [
    "### Aggregated User"
   ]
  },
  {
   "cell_type": "code",
   "execution_count": null,
   "metadata": {},
   "outputs": [],
   "source": [
    "Aggre_user_plot_3(Aggre_user_Y_Q, \"Tamil Nadu\")"
   ]
  },
  {
   "cell_type": "code",
   "execution_count": null,
   "metadata": {},
   "outputs": [],
   "source": [
    "Aggre_user_Y= Aggre_user_plot_1(Aggre_user, 2020)"
   ]
  },
  {
   "cell_type": "code",
   "execution_count": null,
   "metadata": {},
   "outputs": [],
   "source": [
    "Aggre_user_Y_Q = Aggre_user_plot_2(Aggre_user_Y,4)"
   ]
  },
  {
   "cell_type": "markdown",
   "metadata": {},
   "source": [
    "### MAP INSURANCE"
   ]
  },
  {
   "cell_type": "code",
   "execution_count": null,
   "metadata": {},
   "outputs": [],
   "source": [
    "Map_insurance_tac_Y = Transaction_amount_count_Y(Map_insurance,2022)"
   ]
  },
  {
   "cell_type": "code",
   "execution_count": null,
   "metadata": {},
   "outputs": [],
   "source": [
    "Map_insurance_District(Map_insurance_tac_Y,\"Tamil Nadu\")"
   ]
  },
  {
   "cell_type": "code",
   "execution_count": null,
   "metadata": {},
   "outputs": [],
   "source": [
    "Map_insurance_tac_Y_Q = Transaction_amount_count_Y_Q(Map_insurance_tac_Y,3)"
   ]
  },
  {
   "cell_type": "code",
   "execution_count": null,
   "metadata": {},
   "outputs": [],
   "source": [
    "Map_insurance_District(Map_insurance_tac_Y_Q ,\"Tamil Nadu\")"
   ]
  },
  {
   "cell_type": "markdown",
   "metadata": {},
   "source": [
    "### MAP TRANSACTION"
   ]
  },
  {
   "cell_type": "code",
   "execution_count": null,
   "metadata": {},
   "outputs": [],
   "source": [
    "Map_Tran_tac_Y= Transaction_amount_count_Y(Map_transaction,2022)"
   ]
  },
  {
   "cell_type": "code",
   "execution_count": null,
   "metadata": {},
   "outputs": [],
   "source": [
    "Map_insurance_District(Map_Tran_tac_Y,\"Tamil Nadu\")"
   ]
  },
  {
   "cell_type": "code",
   "execution_count": null,
   "metadata": {},
   "outputs": [],
   "source": [
    "Map_Tran_tac_Y_Q = Transaction_amount_count_Y_Q(Map_Tran_tac_Y,3)"
   ]
  },
  {
   "cell_type": "code",
   "execution_count": null,
   "metadata": {},
   "outputs": [],
   "source": [
    "Map_insurance_District(Map_Tran_tac_Y_Q ,\"Tamil Nadu\")"
   ]
  },
  {
   "cell_type": "markdown",
   "metadata": {},
   "source": [
    "### MAP USER"
   ]
  },
  {
   "cell_type": "code",
   "execution_count": null,
   "metadata": {},
   "outputs": [],
   "source": [
    "Map_user_Y= map_user_plot_1(Map_user,2023)"
   ]
  },
  {
   "cell_type": "code",
   "execution_count": null,
   "metadata": {},
   "outputs": [],
   "source": [
    "Map_user_Y_Q= map_user_plot_2(Map_user_Y,3)"
   ]
  },
  {
   "cell_type": "code",
   "execution_count": null,
   "metadata": {},
   "outputs": [],
   "source": [
    "map_user_plot_3(Map_user_Y_Q, \"Tamil Nadu\")"
   ]
  },
  {
   "cell_type": "code",
   "execution_count": null,
   "metadata": {},
   "outputs": [],
   "source": [
    "\"\"\"fig_mapuser_bar_2= px.bar(muyqs, x=\"AppOpens\", y=\"District\", orientation= \"h\", title=\"APP OPENS\", \n",
    "                    height= 800, color_discrete_sequence=px.colors.sequential.Rainbow)\n",
    "\n",
    "\n",
    "st.plotly_chart(fig_mapuser_bar_2)\"\"\""
   ]
  },
  {
   "cell_type": "markdown",
   "metadata": {},
   "source": [
    "### TOP INSURANCE"
   ]
  },
  {
   "cell_type": "code",
   "execution_count": null,
   "metadata": {},
   "outputs": [],
   "source": [
    "Top_insurance_tac_Y = Transaction_amount_count_Y(Top_insurance,2022)"
   ]
  },
  {
   "cell_type": "code",
   "execution_count": null,
   "metadata": {},
   "outputs": [],
   "source": [
    "Top_insurance_tac_Y"
   ]
  },
  {
   "cell_type": "code",
   "execution_count": null,
   "metadata": {},
   "outputs": [],
   "source": [
    "Top_insurance_tac_Y_Q = Transaction_amount_count_Y_Q(Top_insurance_tac_Y,3)"
   ]
  },
  {
   "cell_type": "code",
   "execution_count": null,
   "metadata": {},
   "outputs": [],
   "source": [
    "Top_insurance_plot_1(Top_insurance_tac_Y,\"Tamil Nadu\")"
   ]
  },
  {
   "cell_type": "markdown",
   "metadata": {},
   "source": [
    "### TOP TRANSACTION"
   ]
  },
  {
   "cell_type": "code",
   "execution_count": null,
   "metadata": {},
   "outputs": [],
   "source": [
    "Top_trans_tac_Y = Transaction_amount_count_Y(Top_transaction,2022)"
   ]
  },
  {
   "cell_type": "code",
   "execution_count": null,
   "metadata": {},
   "outputs": [],
   "source": [
    "Top_insurance_plot_1(Top_trans_tac_Y,\"Tamil Nadu\")"
   ]
  },
  {
   "cell_type": "code",
   "execution_count": null,
   "metadata": {},
   "outputs": [],
   "source": [
    "Top_trans_tac_Y_Q = Transaction_amount_count_Y_Q(Top_trans_tac_Y,3)"
   ]
  },
  {
   "cell_type": "markdown",
   "metadata": {},
   "source": [
    "### TOP USER"
   ]
  },
  {
   "cell_type": "code",
   "execution_count": null,
   "metadata": {},
   "outputs": [],
   "source": [
    "top_user_plot_1(Top_user, 2020)"
   ]
  },
  {
   "cell_type": "code",
   "execution_count": null,
   "metadata": {},
   "outputs": [],
   "source": [
    "Top_user_Y = top_user_plot_1(Top_user, 2023)"
   ]
  },
  {
   "cell_type": "markdown",
   "metadata": {},
   "source": [
    "### TOP CHARTS"
   ]
  },
  {
   "cell_type": "code",
   "execution_count": 194,
   "metadata": {},
   "outputs": [],
   "source": [
    "#SQL Connection\n",
    "\n",
    "#  TOP CHARTS FOR INSURANCE TRANSACTION AMOUNT \n",
    "\n",
    "def top_chart_insur_transaction_amount(table_name):\n",
    "    mydb=psycopg2.connect(host=\"localhost\",\n",
    "                        user=\"postgres\",\n",
    "                        password=\"rihana\",\n",
    "                        database=\"phonepe_data\",\n",
    "                        port=\"5432\")\n",
    "    cursor=mydb.cursor()\n",
    "\n",
    "    #PLOT 1\n",
    "\n",
    "    query1= f'''SELECT state, SUM(insurance_amount) AS transaction_amount FROM {table_name} GROUP BY state\n",
    "                ORDER BY transaction_amount  DESC LIMIT 10;'''\n",
    "\n",
    "    cursor.execute(query1)\n",
    "    table = cursor.fetchall()\n",
    "    mydb.commit()\n",
    "\n",
    "    df_1= pd.DataFrame(table, columns=(\"States\", \"Transaction_Amount\"))\n",
    "    df_1\n",
    "\n",
    "    fig_bar_10 = px.bar(df_1, x=\"States\", y=\"Transaction_Amount\", title=  \"TRANSACTION AMOUNT\", height =650,width = 600, \n",
    "                    color_discrete_sequence= px.colors.sequential.algae_r, hover_name= \"States\")\n",
    "    fig_bar_10.show()\n",
    "\n",
    "    # PLOT 2\n",
    "\n",
    "    query2= f'''SELECT state, SUM(insurance_amount) AS transaction_amount FROM {table_name} GROUP BY state\n",
    "                ORDER BY transaction_amount LIMIT 10;'''\n",
    "\n",
    "    cursor.execute(query2)\n",
    "    table = cursor.fetchall()\n",
    "    mydb.commit()\n",
    "\n",
    "    df_2= pd.DataFrame(table, columns=(\"States\", \"Transaction_Amount\"))\n",
    "    df_2\n",
    "\n",
    "    fig_bar_11 = px.bar(df_2, x=\"States\", y=\"Transaction_Amount\", title=  \"TRANSACTION AMOUNT\", height =650,width = 600, \n",
    "                    color_discrete_sequence= px.colors.sequential.algae, hover_name= \"States\")\n",
    "    fig_bar_11.show()\n",
    "\n",
    "\n",
    "    # PLOT 3\n",
    "\n",
    "    query3= f'''SELECT state, AVG(insurance_amount) AS transaction_amount FROM {table_name}\n",
    "            GROUP BY state ORDER BY transaction_amount;'''\n",
    "\n",
    "    cursor.execute(query3)\n",
    "    table = cursor.fetchall()\n",
    "    mydb.commit()\n",
    "\n",
    "    df_3= pd.DataFrame(table, columns=(\"States\", \"Transaction_Amount\"))\n",
    "    df_3\n",
    "\n",
    "    fig_bar_12 = px.bar(df_3, x=\"Transaction_Amount\", y=\"States\", title=  \"TRANSACTION AMOUNT\", height =650,width = 600, \n",
    "                    color_discrete_sequence= px.colors.sequential.BuPu_r, orientation =\"h\", hover_name= \"States\")\n",
    "    fig_bar_12.show()\n",
    "\n",
    "    \n",
    "\n"
   ]
  },
  {
   "cell_type": "code",
   "execution_count": null,
   "metadata": {},
   "outputs": [],
   "source": [
    "top_chart_insur_transaction_amount(\"aggregated_insurance\")"
   ]
  },
  {
   "cell_type": "code",
   "execution_count": 205,
   "metadata": {},
   "outputs": [],
   "source": [
    "# TOP CHARTS FOR INSURANCE TRANSACTION COUNT \n",
    "\n",
    "def top_chart_insur_transaction_count(table_name):\n",
    "    \n",
    "    mydb=psycopg2.connect(host=\"localhost\",\n",
    "                        user=\"postgres\",\n",
    "                        password=\"rihana\",\n",
    "                        database=\"phonepe_data\",\n",
    "                        port=\"5432\")\n",
    "    cursor=mydb.cursor()\n",
    "\n",
    "    # PLOT 4\n",
    "\n",
    "    query4= f'''SELECT state, SUM(insurance_count) AS transaction_count FROM {table_name} GROUP BY state\n",
    "                ORDER BY transaction_count  DESC LIMIT 10;'''\n",
    "\n",
    "    cursor.execute(query4)\n",
    "    table = cursor.fetchall()\n",
    "    mydb.commit()\n",
    "\n",
    "    df_4= pd.DataFrame(table, columns=(\"States\", \"Transaction_Count\"))\n",
    "\n",
    "    fig_bar_13 = px.bar(df_4, x=\"States\", y=\"Transaction_Count\", title=  \"TRANSACTION COUNT\", height =650,width = 600, \n",
    "                    color_discrete_sequence= px.colors.sequential.algae_r, hover_name= \"States\")\n",
    "    fig_bar_13.show()\n",
    "\n",
    "    # PLOT 5\n",
    "\n",
    "    query5= f'''SELECT state, SUM(insurance_count) AS transaction_count FROM {table_name} GROUP BY state\n",
    "                ORDER BY transaction_count LIMIT 10;'''\n",
    "\n",
    "    cursor.execute(query5)\n",
    "    table = cursor.fetchall()\n",
    "    mydb.commit()\n",
    "\n",
    "    df_5= pd.DataFrame(table, columns=(\"States\", \"Transaction_Count\"))\n",
    "\n",
    "    fig_bar_14 = px.bar(df_5, x=\"States\", y=\"Transaction_Count\", title=  \"TRANSACTION COUNT\", height =650,width = 600, \n",
    "                    color_discrete_sequence= px.colors.sequential.algae, hover_name= \"States\")\n",
    "    fig_bar_14.show()\n",
    "\n",
    "\n",
    "    # PLOT 6\n",
    "\n",
    "    query6= f'''SELECT state, AVG(insurance_count) AS transaction_count FROM {table_name}\n",
    "            GROUP BY state ORDER BY transaction_count;'''\n",
    "\n",
    "    cursor.execute(query6)\n",
    "    table = cursor.fetchall()\n",
    "    mydb.commit()\n",
    "\n",
    "    df_6= pd.DataFrame(table, columns=(\"States\", \"Transaction_Count\"))\n",
    "\n",
    "    fig_bar_15 = px.bar(df_6, x=\"Transaction_Count\", y=\"States\", title=  \"TRANSACTION COUNT\", height =800,width = 1000, \n",
    "                    color_discrete_sequence= px.colors.sequential.BuPu_r, orientation =\"h\", hover_name= \"States\")\n",
    "    fig_bar_15.show()\n",
    "\n",
    "    \n",
    "\n"
   ]
  },
  {
   "cell_type": "code",
   "execution_count": null,
   "metadata": {},
   "outputs": [],
   "source": [
    "top_chart_insur_transaction_count(\"aggregated_insurance\")"
   ]
  },
  {
   "cell_type": "code",
   "execution_count": 207,
   "metadata": {},
   "outputs": [],
   "source": [
    "#  TOP CHARTS FOR TRANSACTION AMOUNT \n",
    "\n",
    "def top_chart_trans_transaction_amount(table_name):\n",
    "    \n",
    "    mydb=psycopg2.connect(host=\"localhost\",\n",
    "                        user=\"postgres\",\n",
    "                        password=\"rihana\",\n",
    "                        database=\"phonepe_data\",\n",
    "                        port=\"5432\")\n",
    "    cursor=mydb.cursor()\n",
    "\n",
    "    #PLOT 7\n",
    "\n",
    "    query7= f'''SELECT state, SUM(transaction_amount) AS transaction_amount FROM {table_name} \n",
    "                    GROUP BY state ORDER BY transaction_amount  DESC LIMIT 10;'''\n",
    "\n",
    "    cursor.execute(query7)\n",
    "    table = cursor.fetchall()\n",
    "    mydb.commit()\n",
    "\n",
    "    df_7= pd.DataFrame(table, columns=(\"States\", \"Transaction_Amount\"))\n",
    "\n",
    "    fig_bar_16 = px.bar(df_7, x=\"States\", y=\"Transaction_Amount\", title=  \"TRANSACTION AMOUNT\", height =650,width = 600, \n",
    "                    color_discrete_sequence= px.colors.sequential.algae_r, hover_name= \"States\")\n",
    "    fig_bar_16.show()\n",
    "\n",
    "    # PLOT 8\n",
    "\n",
    "    query8= f'''SELECT state, SUM(transaction_amount) AS transaction_amount FROM {table_name} GROUP BY state\n",
    "                ORDER BY transaction_amount LIMIT 10;'''\n",
    "\n",
    "    cursor.execute(query8)\n",
    "    table = cursor.fetchall()\n",
    "    mydb.commit()\n",
    "\n",
    "    df_8= pd.DataFrame(table, columns=(\"States\", \"Transaction_Amount\"))\n",
    "\n",
    "    fig_bar_17 = px.bar(df_8, x=\"States\", y=\"Transaction_Amount\", title=  \"TRANSACTION AMOUNT\", height =650,width = 600, \n",
    "                    color_discrete_sequence= px.colors.sequential.algae, hover_name= \"States\")\n",
    "    fig_bar_17.show()\n",
    "\n",
    "\n",
    "    # PLOT 9\n",
    "\n",
    "    query9= f'''SELECT state, AVG(transaction_amount) AS transaction_amount FROM {table_name}\n",
    "            GROUP BY state ORDER BY transaction_amount;'''\n",
    "\n",
    "    cursor.execute(query9)\n",
    "    table = cursor.fetchall()\n",
    "    mydb.commit()\n",
    "\n",
    "    df_9= pd.DataFrame(table, columns=(\"States\", \"Transaction_Amount\"))\n",
    "\n",
    "    fig_bar_18 = px.bar(df_9, x=\"Transaction_Amount\", y=\"States\", title=  \"TRANSACTION AMOUNT\", height =650,width = 600, \n",
    "                    color_discrete_sequence= px.colors.sequential.BuPu_r, orientation =\"h\", hover_name= \"States\")\n",
    "    fig_bar_18.show()\n",
    "\n"
   ]
  },
  {
   "cell_type": "code",
   "execution_count": null,
   "metadata": {},
   "outputs": [],
   "source": [
    "top_chart_trans_transaction_amount(\"map_insurance\")"
   ]
  },
  {
   "cell_type": "code",
   "execution_count": 209,
   "metadata": {},
   "outputs": [],
   "source": [
    "# TOP CHARTS FOR TRANSACTION COUNT \n",
    "\n",
    "def top_chart_trans_transaction_count(table_name):\n",
    "    \n",
    "    mydb=psycopg2.connect(host=\"localhost\",\n",
    "                        user=\"postgres\",\n",
    "                        password=\"rihana\",\n",
    "                        database=\"phonepe_data\",\n",
    "                        port=\"5432\")\n",
    "    cursor=mydb.cursor()\n",
    "\n",
    "    # PLOT 10\n",
    "\n",
    "    query10= f'''SELECT state, SUM(transaction_count) AS transaction_count FROM {table_name} GROUP BY state\n",
    "                ORDER BY transaction_count  DESC LIMIT 10;'''\n",
    "\n",
    "    cursor.execute(query10)\n",
    "    table = cursor.fetchall()\n",
    "    mydb.commit()\n",
    "\n",
    "    df_10= pd.DataFrame(table, columns=(\"States\", \"Transaction_Count\"))\n",
    "\n",
    "    fig_bar_19 = px.bar(df_10, x=\"States\", y=\"Transaction_Count\", title=  \"TRANSACTION COUNT\", height =650,width = 600, \n",
    "                    color_discrete_sequence= px.colors.sequential.algae_r, hover_name= \"States\")\n",
    "    fig_bar_19.show()\n",
    "\n",
    "    # PLOT 11\n",
    "\n",
    "    query11= f'''SELECT state, SUM(transaction_count) AS transaction_count FROM {table_name} GROUP BY state\n",
    "                ORDER BY transaction_count LIMIT 10;'''\n",
    "\n",
    "    cursor.execute(query11)\n",
    "    table = cursor.fetchall()\n",
    "    mydb.commit()\n",
    "\n",
    "    df_11= pd.DataFrame(table, columns=(\"States\", \"Transaction_Count\"))\n",
    "\n",
    "    fig_bar_20 = px.bar(df_11, x=\"States\", y=\"Transaction_Count\", title=  \"TRANSACTION COUNT\", height =650,width = 600, \n",
    "                    color_discrete_sequence= px.colors.sequential.algae, hover_name= \"States\")\n",
    "    fig_bar_20.show()\n",
    "\n",
    "\n",
    "    # PLOT 12\n",
    "\n",
    "    query12= f'''SELECT state, AVG(transaction_count) AS transaction_count FROM {table_name}\n",
    "            GROUP BY state ORDER BY transaction_count;'''\n",
    "\n",
    "    cursor.execute(query12)\n",
    "    table = cursor.fetchall()\n",
    "    mydb.commit()\n",
    "\n",
    "    df_12= pd.DataFrame(table, columns=(\"States\", \"Transaction_Count\"))\n",
    "\n",
    "    fig_bar_21 = px.bar(df_12, x=\"Transaction_Count\", y=\"States\", title=  \"TRANSACTION COUNT\", height =800,width = 1000, \n",
    "                    color_discrete_sequence= px.colors.sequential.BuPu_r, orientation =\"h\", hover_name= \"States\")\n",
    "    fig_bar_21.show()\n",
    "\n",
    "    \n",
    "\n"
   ]
  },
  {
   "cell_type": "code",
   "execution_count": null,
   "metadata": {},
   "outputs": [],
   "source": [
    "top_chart_trans_transaction_count(\"map_insurance\")"
   ]
  },
  {
   "cell_type": "code",
   "execution_count": 218,
   "metadata": {},
   "outputs": [],
   "source": [
    "#  TOP CHARTS FOR REGISTERED USER \n",
    "\n",
    "def top_chart_trans_registereduser(table_name, state):\n",
    "    \n",
    "    mydb=psycopg2.connect(host=\"localhost\",\n",
    "                        user=\"postgres\",\n",
    "                        password=\"rihana\",\n",
    "                        database=\"phonepe_data\",\n",
    "                        port=\"5432\")\n",
    "    cursor=mydb.cursor()\n",
    "\n",
    "    #PLOT 13\n",
    "\n",
    "    query13= f'''SELECT district, SUM(registereduser) as registereduser FROM {table_name} WHERE state= '{state}'\n",
    "                GROUP BY district ORDER BY registereduser DESC LIMIT 10;'''\n",
    "\n",
    "    cursor.execute(query13)\n",
    "    table = cursor.fetchall()\n",
    "    mydb.commit()\n",
    "\n",
    "    df_13= pd.DataFrame(table, columns=(\"district\", \"registereduser\"))\n",
    "\n",
    "    fig_bar_22 = px.bar(df_13, x=\"district\", y=\"registereduser\", title=  \"TOP 10 OF REGISTERED USER\", height =650,width = 600, \n",
    "                    color_discrete_sequence= px.colors.sequential.algae_r, hover_name= \"district\")\n",
    "    fig_bar_22.show()\n",
    "\n",
    "    # PLOT 14\n",
    "\n",
    "    query14= f'''SELECT district,SUM(registereduser) as registereduser FROM {table_name} WHERE state= '{state}'\n",
    "                GROUP BY district ORDER BY registereduser LIMIT 10;'''\n",
    "\n",
    "    cursor.execute(query14)\n",
    "    table = cursor.fetchall()\n",
    "    mydb.commit()\n",
    "\n",
    "    df_14= pd.DataFrame(table, columns=(\"district\", \"registereduser\"))\n",
    "\n",
    "    fig_bar_23 = px.bar(df_14, x=\"district\", y=\"registereduser\", title= \"LAST 10 OF REGISTERED USERS\", height =650,width = 600, \n",
    "                    color_discrete_sequence= px.colors.sequential.algae, hover_name= \"district\")\n",
    "    fig_bar_23.show()\n",
    "\n",
    "\n",
    "    # PLOT 15\n",
    "\n",
    "    query15= f'''SELECT district, AVG(registereduser) as registereduser FROM {table_name} WHERE state= '{state}'\n",
    "                GROUP BY district ORDER BY registereduser LIMIT 10;'''\n",
    "\n",
    "    cursor.execute(query15)\n",
    "    table = cursor.fetchall()\n",
    "    mydb.commit()\n",
    "\n",
    "    df_15= pd.DataFrame(table, columns=(\"district\", \"registereduser\"))\n",
    "\n",
    "    fig_bar_24 = px.bar(df_15, x=\"registereduser\", y=\"district\", title=  \"AVERAGE OF REGISTERED USERS\", height =650,width = 600, \n",
    "                    color_discrete_sequence= px.colors.sequential.BuPu_r, orientation =\"h\", hover_name= \"district\")\n",
    "    fig_bar_24.show()\n",
    "\n"
   ]
  },
  {
   "cell_type": "code",
   "execution_count": null,
   "metadata": {},
   "outputs": [],
   "source": [
    "top_chart_trans_registereduser(\"map_user\", 'Tamil Nadu')"
   ]
  },
  {
   "cell_type": "code",
   "execution_count": 220,
   "metadata": {},
   "outputs": [],
   "source": [
    "#  TOP CHARTS FOR APP OPENS\n",
    "\n",
    "def top_chart_trans_appopens(table_name, state):\n",
    "    \n",
    "    mydb=psycopg2.connect(host=\"localhost\",\n",
    "                        user=\"postgres\",\n",
    "                        password=\"rihana\",\n",
    "                        database=\"phonepe_data\",\n",
    "                        port=\"5432\")\n",
    "    cursor=mydb.cursor()\n",
    "\n",
    "    #PLOT 16\n",
    "\n",
    "    query16= f'''SELECT district, SUM(appopens) as appopens FROM {table_name} WHERE state= '{state}'\n",
    "                GROUP BY district ORDER BY appopens DESC LIMIT 10;'''\n",
    "\n",
    "    cursor.execute(query16)\n",
    "    table = cursor.fetchall()\n",
    "    mydb.commit()\n",
    "\n",
    "    df_16= pd.DataFrame(table, columns=(\"district\", \"appopens\"))\n",
    "\n",
    "    fig_bar_25 = px.bar(df_16, x=\"district\", y=\"appopens\", title=  \"TOP 10 OF APP OPENS\", height =650,width = 600, \n",
    "                    color_discrete_sequence= px.colors.sequential.algae_r, hover_name= \"district\")\n",
    "    fig_bar_25.show()\n",
    "\n",
    "    # PLOT 17\n",
    "\n",
    "    query17= f'''SELECT district,SUM(appopens) as appopens FROM {table_name} WHERE state= '{state}'\n",
    "                GROUP BY district ORDER BY appopens LIMIT 10;'''\n",
    "\n",
    "    cursor.execute(query17)\n",
    "    table = cursor.fetchall()\n",
    "    mydb.commit()\n",
    "\n",
    "    df_17= pd.DataFrame(table, columns=(\"district\", \"appopens\"))\n",
    "\n",
    "    fig_bar_26 = px.bar(df_17, x=\"district\", y=\"appopens\", title= \"LAST 10 OF APP OPENS\", height =650,width = 600, \n",
    "                    color_discrete_sequence= px.colors.sequential.algae, hover_name= \"district\")\n",
    "    fig_bar_26.show()\n",
    "\n",
    "\n",
    "    # PLOT 18\n",
    "\n",
    "    query18= f'''SELECT district, AVG(appopens) as appopens FROM {table_name} WHERE state= '{state}'\n",
    "                GROUP BY district ORDER BY appopens LIMIT 10;'''\n",
    "\n",
    "    cursor.execute(query18)\n",
    "    table = cursor.fetchall()\n",
    "    mydb.commit()\n",
    "\n",
    "    df_18= pd.DataFrame(table, columns=(\"district\", \"appopens\"))\n",
    "\n",
    "    fig_bar_27 = px.bar(df_18, x=\"appopens\", y=\"district\", title=  \"AVERAGE OF APP OPENS\", height =650,width = 600, \n",
    "                    color_discrete_sequence= px.colors.sequential.BuPu_r, orientation =\"h\", hover_name= \"district\")\n",
    "    fig_bar_27.show()\n",
    "\n"
   ]
  },
  {
   "cell_type": "code",
   "execution_count": null,
   "metadata": {},
   "outputs": [],
   "source": [
    "top_chart_trans_appopens(\"map_user\", 'Tamil Nadu')"
   ]
  },
  {
   "cell_type": "code",
   "execution_count": 222,
   "metadata": {},
   "outputs": [],
   "source": [
    "#  TOP CHARTS FOR TOPUSER REGISTERED USER \n",
    "\n",
    "def top_chart_top_registereduser(table_name):\n",
    "    \n",
    "    mydb=psycopg2.connect(host=\"localhost\",\n",
    "                        user=\"postgres\",\n",
    "                        password=\"rihana\",\n",
    "                        database=\"phonepe_data\",\n",
    "                        port=\"5432\")\n",
    "    cursor=mydb.cursor()\n",
    "\n",
    "    #PLOT 19\n",
    "\n",
    "    query19= f'''SELECT state, SUM(registereduser) as Registereduser FROM {table_name} GROUP BY state\n",
    "                    ORDER BY registereduser DESC LIMIT 10;'''\n",
    "\n",
    "    cursor.execute(query19)\n",
    "    table = cursor.fetchall()\n",
    "    mydb.commit()\n",
    "\n",
    "    df_19= pd.DataFrame(table, columns=(\"district\", \"registereduser\"))\n",
    "\n",
    "    fig_bar_28 = px.bar(df_19, x=\"district\", y=\"registereduser\", title=  \"TOP 10 OF REGISTERED USER\", height =650,width = 600, \n",
    "                    color_discrete_sequence= px.colors.sequential.algae_r, hover_name= \"district\")\n",
    "    fig_bar_28.show()\n",
    "\n",
    "    # PLOT 20\n",
    "\n",
    "    query20= f'''SELECT state, SUM(registereduser) as Registereduser FROM {table_name} GROUP BY state\n",
    "                    ORDER BY registereduser LIMIT 10;'''\n",
    "\n",
    "    cursor.execute(query20)\n",
    "    table = cursor.fetchall()\n",
    "    mydb.commit()\n",
    "\n",
    "    df_20= pd.DataFrame(table, columns=(\"district\", \"registereduser\"))\n",
    "\n",
    "    fig_bar_29 = px.bar(df_20, x=\"district\", y=\"registereduser\", title= \"LAST 10 OF REGISTERED USERS\", height =650,width = 600, \n",
    "                    color_discrete_sequence= px.colors.sequential.algae, hover_name= \"district\")\n",
    "    fig_bar_29.show()\n",
    "\n",
    "\n",
    "    # PLOT 21\n",
    "\n",
    "    query21= f'''SELECT state, AVG(registereduser) as Registereduser FROM {table_name} GROUP BY state\n",
    "                    ORDER BY registereduser DESC  LIMIT 10;'''\n",
    "\n",
    "    cursor.execute(query21)\n",
    "    table = cursor.fetchall()\n",
    "    mydb.commit()\n",
    "\n",
    "    df_21= pd.DataFrame(table, columns=(\"district\", \"registereduser\"))\n",
    "\n",
    "    fig_bar_30 = px.bar(df_21, x=\"registereduser\", y=\"district\", title=  \"AVERAGE OF REGISTERED USERS\", height =650,width = 600, \n",
    "                    color_discrete_sequence= px.colors.sequential.BuPu_r, orientation =\"h\", hover_name= \"district\")\n",
    "    fig_bar_30.show()\n",
    "\n"
   ]
  },
  {
   "cell_type": "code",
   "execution_count": null,
   "metadata": {},
   "outputs": [],
   "source": [
    "top_chart_top_registereduser(\"top_user\")"
   ]
  },
  {
   "cell_type": "code",
   "execution_count": null,
   "metadata": {},
   "outputs": [],
   "source": []
  },
  {
   "cell_type": "code",
   "execution_count": null,
   "metadata": {},
   "outputs": [],
   "source": []
  }
 ],
 "metadata": {
  "kernelspec": {
   "display_name": ".venv",
   "language": "python",
   "name": "python3"
  },
  "language_info": {
   "codemirror_mode": {
    "name": "ipython",
    "version": 3
   },
   "file_extension": ".py",
   "mimetype": "text/x-python",
   "name": "python",
   "nbconvert_exporter": "python",
   "pygments_lexer": "ipython3",
   "version": "3.11.5"
  }
 },
 "nbformat": 4,
 "nbformat_minor": 2
}
